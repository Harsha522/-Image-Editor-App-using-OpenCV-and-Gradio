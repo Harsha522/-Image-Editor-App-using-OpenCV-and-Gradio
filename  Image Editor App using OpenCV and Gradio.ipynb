{
  "cells": [
    {
      "cell_type": "markdown",
      "metadata": {
        "id": "view-in-github",
        "colab_type": "text"
      },
      "source": [
        "<a href=\"https://colab.research.google.com/github/Harsha522/-Image-Editor-App-using-OpenCV-and-Gradio/blob/main/%20Image%20Editor%20App%20using%20OpenCV%20and%20Gradio.ipynb\" target=\"_parent\"><img src=\"https://colab.research.google.com/assets/colab-badge.svg\" alt=\"Open In Colab\"/></a>"
      ]
    },
    {
      "cell_type": "code",
      "source": [
        "import gradio as gr\n",
        "import cv2\n",
        "import numpy as np\n",
        "from matplotlib import pyplot as plt\n",
        "from PIL import Image\n",
        "\n",
        "def process_image(image, operation):\n",
        "    # Convert PIL image to OpenCV format\n",
        "    image = cv2.cvtColor(np.array(image), cv2.COLOR_RGB2BGR)\n",
        "\n",
        "    if operation == \"Grayscale\":\n",
        "        processed = cv2.cvtColor(image, cv2.COLOR_BGR2GRAY)\n",
        "        return Image.fromarray(processed)\n",
        "\n",
        "    elif operation == \"Canny Edge Detection\":\n",
        "        edge = cv2.Canny(image, 50, 100)\n",
        "        return Image.fromarray(edge)\n",
        "\n",
        "    elif operation == \"Resize (200x300)\":\n",
        "        resized = cv2.resize(image, (200, 300))\n",
        "        resized = cv2.cvtColor(resized, cv2.COLOR_BGR2RGB)\n",
        "        return Image.fromarray(resized)\n",
        "\n",
        "    elif operation == \"Gaussian Blur\":\n",
        "        blurred = cv2.GaussianBlur(image, (25, 9), 0)\n",
        "        blurred = cv2.cvtColor(blurred, cv2.COLOR_BGR2RGB)\n",
        "        return Image.fromarray(blurred)\n",
        "\n",
        "    else:\n",
        "        # Return original\n",
        "        return Image.fromarray(cv2.cvtColor(image, cv2.COLOR_BGR2RGB))\n",
        "\n",
        "\n",
        "with gr.Blocks(css=\"body {background-color: #f0f0f5;}\") as demo:\n",
        "    gr.Markdown(\"## 🖼️ Image Editor App with OpenCV + Gradio\")\n",
        "    with gr.Row():\n",
        "        with gr.Column():\n",
        "            image_input = gr.Image(label=\"Upload Image\", type=\"pil\")\n",
        "            operation = gr.Radio(\n",
        "                [\"Original\", \"Grayscale\", \"Canny Edge Detection\", \"Resize (200x300)\", \"Gaussian Blur\"],\n",
        "                label=\"Select Operation\",\n",
        "                value=\"Original\"\n",
        "            )\n",
        "            submit_btn = gr.Button(\"Apply\")\n",
        "\n",
        "        with gr.Column():\n",
        "            output = gr.Image(label=\"Processed Image\")\n",
        "\n",
        "    submit_btn.click(fn=process_image, inputs=[image_input, operation], outputs=output)\n",
        "\n",
        "demo.launch()\n"
      ],
      "metadata": {
        "id": "Dj_D-izWn00K",
        "outputId": "48cb4a36-76e7-432e-9abc-28faed7d403b",
        "colab": {
          "base_uri": "https://localhost:8080/",
          "height": 646
        }
      },
      "execution_count": null,
      "outputs": [
        {
          "output_type": "stream",
          "name": "stdout",
          "text": [
            "It looks like you are running Gradio on a hosted a Jupyter notebook. For the Gradio app to work, sharing must be enabled. Automatically setting `share=True` (you can turn this off by setting `share=False` in `launch()` explicitly).\n",
            "\n",
            "Colab notebook detected. To show errors in colab notebook, set debug=True in launch()\n",
            "* Running on public URL: https://38a4c801a35cc919f1.gradio.live\n",
            "\n",
            "This share link expires in 1 week. For free permanent hosting and GPU upgrades, run `gradio deploy` from the terminal in the working directory to deploy to Hugging Face Spaces (https://huggingface.co/spaces)\n"
          ]
        },
        {
          "output_type": "display_data",
          "data": {
            "text/plain": [
              "<IPython.core.display.HTML object>"
            ],
            "text/html": [
              "<div><iframe src=\"https://38a4c801a35cc919f1.gradio.live\" width=\"100%\" height=\"500\" allow=\"autoplay; camera; microphone; clipboard-read; clipboard-write;\" frameborder=\"0\" allowfullscreen></iframe></div>"
            ]
          },
          "metadata": {}
        },
        {
          "output_type": "execute_result",
          "data": {
            "text/plain": []
          },
          "metadata": {},
          "execution_count": 3
        }
      ]
    }
  ],
  "metadata": {
    "colab": {
      "provenance": [],
      "include_colab_link": true
    },
    "kernelspec": {
      "display_name": "Python 3",
      "name": "python3"
    }
  },
  "nbformat": 4,
  "nbformat_minor": 0
}